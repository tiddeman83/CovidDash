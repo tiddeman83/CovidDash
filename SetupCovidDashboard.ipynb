{
 "cells": [
  {
   "cell_type": "code",
   "execution_count": 6,
   "id": "6949f893-870d-419f-bb7c-2a77e527d09f",
   "metadata": {},
   "outputs": [
    {
     "ename": "SyntaxError",
     "evalue": "invalid syntax (491496768.py, line 29)",
     "output_type": "error",
     "traceback": [
      "\u001b[0;36m  File \u001b[0;32m\"/var/folders/8p/gt2_4jsn6zs6wqxg158nzjfh0000gn/T/ipykernel_36122/491496768.py\"\u001b[0;36m, line \u001b[0;32m29\u001b[0m\n\u001b[0;31m    if datetime.time =< '16:00:00':\u001b[0m\n\u001b[0m                     ^\u001b[0m\n\u001b[0;31mSyntaxError\u001b[0m\u001b[0;31m:\u001b[0m invalid syntax\n"
     ]
    }
   ],
   "source": [
    "import pandas as pd\n",
    "import pyarrow\n",
    "import datetime as datetime\n",
    "from datetime import timedelta\n",
    "import matplotlib.pyplot as plt\n",
    "import streamlit as st\n",
    "import os\n",
    "import schedule \n",
    "import time\n",
    "\n",
    "\n",
    "#specification of the dataset\n",
    "rivm_gemeente = 'https://data.rivm.nl/covid-19/COVID-19_aantallen_gemeente_per_dag.json'\n",
    "zkh = 'https://lcps.nu/wp-content/uploads/covid-19-datafeed.csv ' \n",
    "\n",
    "def initiation():\n",
    "    \"\"\"checks on startup if data have been obtained earlier, or otherwise will create \n",
    "    the parquet file for the first time\"\"\"\n",
    "    \n",
    "    if os.path.isfile('updated_nl_covid_cases.parquet'):\n",
    "        print('first initiation was done, redirecting the load data method')\n",
    "        \n",
    "    else:\n",
    "        data = import_data()\n",
    "        data.to_parquet('updated_nl_covid_cases.parquet')\n",
    "        print('first data load was initiated, we are good to go')\n",
    "\n",
    "        \n",
    "def update_mechanism():\n",
    "    print('updating information...')\n",
    "    data = import_data()    \n",
    "    data.to_parquet('updated_nl_covid_cases.parquet')\n",
    "    print('updated information...')\n",
    "    \n",
    "    \n",
    "schedule.every().day.at(\"15:45\").do(update_mechanism)\n",
    "\n",
    "while True:\n",
    "    schedule.run_pending()\n",
    "    time.sleep(1)\n",
    "\n",
    "          \n",
    "def load_data():\n",
    "    df = pd.read_parquet('updated_nl_covid_cases.parquet')\n",
    "    \n",
    "    return df\n",
    "\n",
    "          \n",
    "def import_data():\n",
    "    df = pd.read_json(rivm_gemeente)\n",
    "    df['download_date'] = datetime.date.today().strftime('%Y-%m-%d')\n",
    "    df['download_time'] = datetime.datetime.now().time()\n",
    "    \n",
    "    return df\n",
    "\n",
    "\n",
    "def today_reported():\n",
    "    data = load_data()\n",
    "    today = datetime.date.today().strftime('%Y-%m-%d')\n",
    "    today_data = data.loc[data['Date_of_publication'] == today]\n",
    "    today_group = today_data.groupby(['Date_of_publication']).sum(['Total_reported'])\n",
    "\n",
    "    return today_group\n",
    "\n",
    "\n",
    "def daily_information():\n",
    "    df = load_data()\n",
    "    df_report = df.groupby(['Date_of_publication']).sum(['Total reported'])\n",
    "    \n",
    "    return df_report\n",
    "\n",
    "\n",
    "def information_per_municipality():\n",
    "    df = load_data()\n",
    "    start_date = (datetime.datetime.today() - timedelta(45)).strftime('%Y-%m-%d')\n",
    "    df = df[df['Date_of_publication'] > start_date]\n",
    "    return df\n",
    "\n",
    "#\"\"\"initiation of the app is done, to make sure a parquet file is present in the project folder\"\"\"\n",
    "initiation()\n",
    "\n",
    "#Here starts the vis part of this script\n",
    "\n",
    "header_container = st.container()\n",
    "data_container = st.container()\n",
    "\n",
    "with header_container:\n",
    "    st.title('Familie Baas Covid-19 update app')\n",
    "    st.text('As we are still interested in the status of the number of registred positive Covid-19 tests in NL, \\\n",
    "        we still keep track of these numbers.')\n",
    "\n",
    "\n",
    "with data_container:\n",
    "    st.write(today_reported())\n",
    "    st.write('Nu gaan we even kijken of we nog meer kunnen toevoegen')\n",
    "\n",
    "    #make slicer per municipality\n",
    "    data = information_per_municipality()\n",
    "    location = ['All'] + data['Municipality_name'].unique().tolist()\n",
    "    municipality = st.selectbox('Selecteer een gemeente', location, key='gemeente')\n",
    "\n",
    "    st.write('Number of reported C19 positive tests last 45 days for ' + str(municipality))\n",
    "\n",
    "\n",
    "    if municipality != 'All':\n",
    "        show_grouper = data[data['Municipality_name'] == municipality]\n",
    "        display_data = show_grouper.groupby(['Date_of_publication']).sum(['Total_reported'])\n",
    "        #display_data.columns = ['Date_of_publication', 'Sum_total_reported']\n",
    "        #add moving average\n",
    "        display_data['Avg7days_reported'] = display_data['Total_reported'].rolling(7).mean()\n",
    "        display_data['Avg3days_reported'] = display_data['Total_reported'].rolling(3).mean()\n",
    "\n",
    "    else:\n",
    "        show_grouper = data.copy()\n",
    "        display_data = show_grouper.groupby(['Date_of_publication']).sum(['Total_reported'])\n",
    "        #display_data.columns = ['Date_of_publication', 'Sum_total_reported']\n",
    "        #add moving average\n",
    "        display_data['Avg7days_reported'] = display_data['Total_reported'].rolling(7).mean()\n",
    "        display_data['Avg3days_reported'] = display_data['Total_reported'].rolling(3).mean()\n",
    "\n",
    "    st.line_chart(display_data)\n",
    "    st.write(display_data)\n",
    "\n",
    "\n",
    "\n",
    "\n",
    "\n"
   ]
  },
  {
   "cell_type": "code",
   "execution_count": 5,
   "id": "4d70a172-f305-4bf1-8f45-47520a0312e6",
   "metadata": {},
   "outputs": [
    {
     "ename": "TypeError",
     "evalue": "'<' not supported between instances of 'type' and 'str'",
     "output_type": "error",
     "traceback": [
      "\u001b[0;31m---------------------------------------------------------------------------\u001b[0m",
      "\u001b[0;31mTypeError\u001b[0m                                 Traceback (most recent call last)",
      "\u001b[0;32m/var/folders/8p/gt2_4jsn6zs6wqxg158nzjfh0000gn/T/ipykernel_36122/3426070441.py\u001b[0m in \u001b[0;36m<module>\u001b[0;34m\u001b[0m\n\u001b[0;32m----> 1\u001b[0;31m \u001b[0mneed_for_update\u001b[0m\u001b[0;34m(\u001b[0m\u001b[0;34m)\u001b[0m\u001b[0;34m\u001b[0m\u001b[0;34m\u001b[0m\u001b[0m\n\u001b[0m",
      "\u001b[0;32m/var/folders/8p/gt2_4jsn6zs6wqxg158nzjfh0000gn/T/ipykernel_36122/2993510527.py\u001b[0m in \u001b[0;36mneed_for_update\u001b[0;34m()\u001b[0m\n\u001b[1;32m     27\u001b[0m     \u001b[0mlatest_update\u001b[0m \u001b[0;34m=\u001b[0m \u001b[0mdata_here\u001b[0m\u001b[0;34m[\u001b[0m\u001b[0;34m'download_date'\u001b[0m\u001b[0;34m]\u001b[0m\u001b[0;34m.\u001b[0m\u001b[0munique\u001b[0m\u001b[0;34m(\u001b[0m\u001b[0;34m)\u001b[0m\u001b[0;34m.\u001b[0m\u001b[0mmax\u001b[0m\u001b[0;34m(\u001b[0m\u001b[0;34m)\u001b[0m\u001b[0;34m\u001b[0m\u001b[0;34m\u001b[0m\u001b[0m\n\u001b[1;32m     28\u001b[0m \u001b[0;34m\u001b[0m\u001b[0m\n\u001b[0;32m---> 29\u001b[0;31m     \u001b[0;32mif\u001b[0m \u001b[0mdatetime\u001b[0m\u001b[0;34m.\u001b[0m\u001b[0mtime\u001b[0m \u001b[0;34m<\u001b[0m \u001b[0;34m'16:00:00'\u001b[0m\u001b[0;34m:\u001b[0m\u001b[0;34m\u001b[0m\u001b[0;34m\u001b[0m\u001b[0m\n\u001b[0m\u001b[1;32m     30\u001b[0m         \u001b[0mprint\u001b[0m\u001b[0;34m(\u001b[0m\u001b[0;34m'no reason for update'\u001b[0m\u001b[0;34m)\u001b[0m\u001b[0;34m\u001b[0m\u001b[0;34m\u001b[0m\u001b[0m\n\u001b[1;32m     31\u001b[0m \u001b[0;34m\u001b[0m\u001b[0m\n",
      "\u001b[0;31mTypeError\u001b[0m: '<' not supported between instances of 'type' and 'str'"
     ]
    }
   ],
   "source": [
    "need_for_update()"
   ]
  },
  {
   "cell_type": "code",
   "execution_count": 3,
   "id": "2258fca6-4815-4ab3-b9ab-a9fe01182b43",
   "metadata": {},
   "outputs": [],
   "source": [
    "import pandas as pd\n",
    "import pyarrow\n",
    "import datetime as datetime\n",
    "from datetime import timedelta\n",
    "import matplotlib.pyplot as plt\n",
    "import streamlit as st\n",
    "import os\n",
    "\n",
    "def need_for_update():\n",
    "    data_here = pd.read_parquet('updated_nl_covid_cases.parquet')\n",
    "    latest_update = data_here['download_date'].unique().max() \n",
    "    \n",
    "    actual_time = datetime.datetime.now()\n",
    "    time = actual_time.strftime('%HH:%MM:%SS')\n",
    "    \n",
    "    if time <= '10:00:00': \n",
    "        print('no reason for update')\n",
    "\n",
    "    else:\n",
    "               \n",
    "        print('data should be updated')\n",
    "\n",
    "def update_trigger():\n",
    "    actual_time = datetime.datetime.now()\n",
    "    time = actual_time.strftime('%HH:%MM:%SS')\n",
    "    \n",
    "    while time == '11:00:00':\n",
    "        print('nog geen update')\n",
    "        "
   ]
  },
  {
   "cell_type": "code",
   "execution_count": 4,
   "id": "5eb64430-fa65-45b1-a66b-38af642f92dd",
   "metadata": {},
   "outputs": [],
   "source": [
    "update_trigger()"
   ]
  },
  {
   "cell_type": "code",
   "execution_count": 11,
   "id": "3ff5eaa6-2cb3-4564-a7f1-64edc47ce7a7",
   "metadata": {},
   "outputs": [
    {
     "data": {
      "text/plain": [
       "datetime.time(0, 0)"
      ]
     },
     "execution_count": 11,
     "metadata": {},
     "output_type": "execute_result"
    }
   ],
   "source": [
    "datetime.time()"
   ]
  },
  {
   "cell_type": "code",
   "execution_count": 12,
   "id": "03fd6667-ce19-4189-b7fe-310ba4912f61",
   "metadata": {},
   "outputs": [
    {
     "ename": "AttributeError",
     "evalue": "module 'datetime' has no attribute 'now'",
     "output_type": "error",
     "traceback": [
      "\u001b[0;31m---------------------------------------------------------------------------\u001b[0m",
      "\u001b[0;31mAttributeError\u001b[0m                            Traceback (most recent call last)",
      "\u001b[0;32m/var/folders/8p/gt2_4jsn6zs6wqxg158nzjfh0000gn/T/ipykernel_36122/1454879144.py\u001b[0m in \u001b[0;36m<module>\u001b[0;34m\u001b[0m\n\u001b[0;32m----> 1\u001b[0;31m \u001b[0mdatetime\u001b[0m\u001b[0;34m.\u001b[0m\u001b[0mnow\u001b[0m\u001b[0;34m(\u001b[0m\u001b[0;34m)\u001b[0m\u001b[0;34m\u001b[0m\u001b[0;34m\u001b[0m\u001b[0m\n\u001b[0m",
      "\u001b[0;31mAttributeError\u001b[0m: module 'datetime' has no attribute 'now'"
     ]
    }
   ],
   "source": [
    "datetime.now()"
   ]
  },
  {
   "cell_type": "code",
   "execution_count": 13,
   "id": "c951c422-e1ba-440d-85f7-0f2521200b2b",
   "metadata": {},
   "outputs": [
    {
     "data": {
      "text/plain": [
       "datetime.time"
      ]
     },
     "execution_count": 13,
     "metadata": {},
     "output_type": "execute_result"
    }
   ],
   "source": [
    "datetime.time"
   ]
  },
  {
   "cell_type": "code",
   "execution_count": 16,
   "id": "1c68ab0b-9e39-4559-9cdb-2b332f7ed015",
   "metadata": {},
   "outputs": [
    {
     "ename": "TypeError",
     "evalue": "'getset_descriptor' object is not callable",
     "output_type": "error",
     "traceback": [
      "\u001b[0;31m---------------------------------------------------------------------------\u001b[0m",
      "\u001b[0;31mTypeError\u001b[0m                                 Traceback (most recent call last)",
      "\u001b[0;32m/var/folders/8p/gt2_4jsn6zs6wqxg158nzjfh0000gn/T/ipykernel_36122/203691337.py\u001b[0m in \u001b[0;36m<module>\u001b[0;34m\u001b[0m\n\u001b[0;32m----> 1\u001b[0;31m \u001b[0mdatetime\u001b[0m\u001b[0;34m.\u001b[0m\u001b[0mtime\u001b[0m\u001b[0;34m.\u001b[0m\u001b[0mhour\u001b[0m\u001b[0;34m(\u001b[0m\u001b[0;34m)\u001b[0m\u001b[0;34m\u001b[0m\u001b[0;34m\u001b[0m\u001b[0m\n\u001b[0m",
      "\u001b[0;31mTypeError\u001b[0m: 'getset_descriptor' object is not callable"
     ]
    }
   ],
   "source": [
    "datetime.time.hour()"
   ]
  },
  {
   "cell_type": "code",
   "execution_count": null,
   "id": "601390b0-1c3a-4b75-aeb7-5906b7ed8a51",
   "metadata": {},
   "outputs": [
    {
     "name": "stdout",
     "output_type": "stream",
     "text": [
      "I am working...\n",
      "I am working...\n",
      "I am working...\n",
      "I am working...\n",
      "I am working...\n",
      "I am working...\n",
      "I am working...\n",
      "I am working...\n",
      "I am working...\n",
      "I am working...\n",
      "I am working...\n",
      "I am working...\n",
      "I am working...\n",
      "I am working...\n",
      "I am working...\n",
      "I am working...\n",
      "I am working...\n",
      "I am working...\n",
      "I am working...\n",
      "I am working...\n",
      "I am working...\n",
      "I am working...\n",
      "I am working...\n",
      "I am working...\n",
      "I am working...\n",
      "I am working...\n",
      "I am working...\n",
      "I am working...\n",
      "I am working...\n",
      "I am working...\n",
      "I am working...\n",
      "I am working...\n",
      "I am working...\n",
      "I am working...\n",
      "I am working...\n",
      "I am working...\n",
      "I am working...\n"
     ]
    }
   ],
   "source": [
    "import schedule\n",
    "import time\n",
    "\n",
    "def job():\n",
    "    print('I am working...')\n",
    "\n",
    "schedule.every(1).minutes.do(job)\n",
    "\n",
    "\n",
    "    \n",
    "while True:\n",
    "    schedule.run_pending()\n",
    "    time.sleep(1)"
   ]
  },
  {
   "cell_type": "code",
   "execution_count": null,
   "id": "722c368f-9510-42e7-bd91-f061781dd6fe",
   "metadata": {},
   "outputs": [],
   "source": []
  },
  {
   "cell_type": "code",
   "execution_count": null,
   "id": "0c65cd4d-458e-42d9-8713-ae3c21132016",
   "metadata": {},
   "outputs": [],
   "source": []
  }
 ],
 "metadata": {
  "kernelspec": {
   "display_name": "Python 3 (ipykernel)",
   "language": "python",
   "name": "python3"
  },
  "language_info": {
   "codemirror_mode": {
    "name": "ipython",
    "version": 3
   },
   "file_extension": ".py",
   "mimetype": "text/x-python",
   "name": "python",
   "nbconvert_exporter": "python",
   "pygments_lexer": "ipython3",
   "version": "3.9.6"
  }
 },
 "nbformat": 4,
 "nbformat_minor": 5
}
